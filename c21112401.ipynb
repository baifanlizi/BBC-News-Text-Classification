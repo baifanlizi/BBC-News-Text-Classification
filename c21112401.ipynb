{
 "cells": [
  {
   "cell_type": "code",
   "execution_count": 88,
   "metadata": {},
   "outputs": [
    {
     "name": "stdout",
     "output_type": "stream",
     "text": [
      "[nltk_data] Downloading package punkt to\n",
      "[nltk_data]     C:\\Users\\hanci\\AppData\\Roaming\\nltk_data...\n",
      "[nltk_data]   Package punkt is already up-to-date!\n",
      "[nltk_data] Downloading package stopwords to\n",
      "[nltk_data]     C:\\Users\\hanci\\AppData\\Roaming\\nltk_data...\n",
      "[nltk_data]   Package stopwords is already up-to-date!\n",
      "[nltk_data] Downloading package wordnet to\n",
      "[nltk_data]     C:\\Users\\hanci\\AppData\\Roaming\\nltk_data...\n",
      "[nltk_data]   Package wordnet is already up-to-date!\n"
     ]
    }
   ],
   "source": [
    "import pandas as pd\n",
    "import os\n",
    "import numpy as np\n",
    "import sklearn\n",
    "import nltk\n",
    "import operator\n",
    "import seaborn as sns\n",
    "nltk.download('punkt')\n",
    "nltk.download('stopwords')\n",
    "nltk.download('wordnet')\n",
    "from sklearn.feature_extraction.text import TfidfVectorizer\n",
    "from sklearn.model_selection import cross_val_score\n",
    "from sklearn.model_selection import train_test_split\n",
    "from sklearn.metrics import classification_report\n",
    "from sklearn.metrics import precision_score,recall_score,f1_score,accuracy_score\n",
    "from sklearn.naive_bayes import GaussianNB,MultinomialNB,BernoulliNB\n",
    "from sklearn import model_selection, preprocessing, linear_model, naive_bayes, metrics, svm\n",
    "\n",
    "#Cross-validation\n",
    "from sklearn.model_selection import cross_val_score\n",
    "import matplotlib.pyplot as plt\n",
    "%matplotlib inline"
   ]
  },
  {
   "cell_type": "code",
   "execution_count": 89,
   "metadata": {},
   "outputs": [],
   "source": [
    "business = []\n",
    "for i in range(1,511):\n",
    "    file_path = 'C:/Users/hanci/OneDrive/Desktop/bbc/business/%03d.txt'%(i)\n",
    "    data = open(file_path,encoding='gbk',errors='ignore').read()\n",
    "    business.append([data,'business'])\n",
    "df1 = pd.DataFrame(business)"
   ]
  },
  {
   "cell_type": "code",
   "execution_count": 90,
   "metadata": {},
   "outputs": [],
   "source": [
    "politics = []\n",
    "for i in range(1,418):\n",
    "    file_path = 'C:/Users/hanci/OneDrive/Desktop/bbc/politics/%03d.txt'%(i)\n",
    "    data = open(file_path,encoding='gbk',errors='ignore').read()\n",
    "    politics.append([data,'politics'])\n",
    "df2 = pd.DataFrame(politics)"
   ]
  },
  {
   "cell_type": "code",
   "execution_count": 91,
   "metadata": {},
   "outputs": [],
   "source": [
    "entertainment = []\n",
    "for i in range(1,387):\n",
    "    file_path = 'C:/Users/hanci/OneDrive/Desktop/bbc/entertainment/%03d.txt'%(i)\n",
    "    data = open(file_path,encoding='gbk',errors='ignore').read()\n",
    "    entertainment.append([data,'entertainment'])\n",
    "df3 = pd.DataFrame(entertainment)"
   ]
  },
  {
   "cell_type": "code",
   "execution_count": 92,
   "metadata": {},
   "outputs": [],
   "source": [
    "sport = []\n",
    "for i in range(1,512):\n",
    "    file_path = 'C:/Users/hanci/OneDrive/Desktop/bbc/sport/%03d.txt'%(i)\n",
    "    data = open(file_path,encoding='gbk',errors='ignore').read()\n",
    "    sport.append([data,'sport'])\n",
    "df4 = pd.DataFrame(sport)"
   ]
  },
  {
   "cell_type": "code",
   "execution_count": 93,
   "metadata": {},
   "outputs": [],
   "source": [
    "tech = []\n",
    "for i in range(1,402):\n",
    "    file_path = 'C:/Users/hanci/OneDrive/Desktop/bbc/tech/%03d.txt'%(i)\n",
    "    data = open(file_path,encoding='gbk',errors='ignore').read()\n",
    "    tech.append([data,'tech'])\n",
    "df5 = pd.DataFrame(tech)"
   ]
  },
  {
   "cell_type": "code",
   "execution_count": 94,
   "metadata": {},
   "outputs": [],
   "source": [
    "dataSet = pd.concat([df1,df2,df3,df4,df5],ignore_index=True)#Combine all data"
   ]
  },
  {
   "cell_type": "code",
   "execution_count": 95,
   "metadata": {},
   "outputs": [
    {
     "data": {
      "text/plain": [
       "(445, 2)"
      ]
     },
     "execution_count": 95,
     "metadata": {},
     "output_type": "execute_result"
    }
   ],
   "source": [
    "x_train, x_test, y_train, y_test = train_test_split(dataSet,dataSet[1],test_size=0.2)\n",
    "x_test.shape"
   ]
  },
  {
   "cell_type": "markdown",
   "metadata": {},
   "source": [
    "Word Frequency as Feature"
   ]
  },
  {
   "cell_type": "code",
   "execution_count": 96,
   "metadata": {},
   "outputs": [],
   "source": [
    "lemmatizer = nltk.stem.WordNetLemmatizer()"
   ]
  },
  {
   "cell_type": "code",
   "execution_count": 97,
   "metadata": {},
   "outputs": [],
   "source": [
    "def get_list_tokens(string):\n",
    "    sentence_split=nltk.tokenize.sent_tokenize(string)\n",
    "    list_tokens=[]\n",
    "    for sentence in sentence_split:\n",
    "        list_tokens_sentence=nltk.tokenize.word_tokenize(sentence)\n",
    "        for token in list_tokens_sentence:\n",
    "            list_tokens.append(lemmatizer.lemmatize(token).lower())\n",
    "    return list_tokens"
   ]
  },
  {
   "cell_type": "code",
   "execution_count": 98,
   "metadata": {},
   "outputs": [],
   "source": [
    "stopwords=set(nltk.corpus.stopwords.words('english'))\n",
    "stopwords.add(\".\")\n",
    "stopwords.add(\",\")\n",
    "stopwords.add(\"--\")\n",
    "stopwords.add(\"``\")\n",
    "stopwords.add(\"''\")\n",
    "stopwords.add(\"-\")\n",
    "stopwords.add(\")\")\n",
    "stopwords.add(\"(\")\n",
    "stopwords.add(\"%\")\n",
    "stopwords.add(\":\")\n",
    "stopwords.add(\"$\")\n",
    "stopwords.add(\"'\")\n",
    "def get_vocabulary(trainSet, num_features):\n",
    "    dict_word_frequency = {}\n",
    "    for i in x_train.index:\n",
    "        trainSet = x_train.loc[i,0]\n",
    "        sentence_tokens = get_list_tokens(trainSet)\n",
    "        for word in sentence_tokens:\n",
    "            if word in stopwords: continue\n",
    "            if word not in dict_word_frequency: dict_word_frequency[word]=1\n",
    "            else: dict_word_frequency[word] += 1\n",
    "            \n",
    "    sorted_list = sorted(dict_word_frequency.items(), key=operator.itemgetter(1), reverse=True)[:num_features]\n",
    "    i = 0\n",
    "    for word,frequency in sorted_list[:15]:\n",
    "        i += 1\n",
    "        print (str(i) + \". \" + word + \" - \" + str(frequency))\n",
    "    \n",
    "    vocabulary = []\n",
    "    for word,frequency in sorted_list:\n",
    "        vocabulary.append(word)\n",
    "    return vocabulary"
   ]
  },
  {
   "cell_type": "code",
   "execution_count": 99,
   "metadata": {},
   "outputs": [],
   "source": [
    "def get_vector_text(list_vocab,string):\n",
    "    vector_text=np.zeros(len(list_vocab))\n",
    "    list_tokens_string=get_list_tokens(string)\n",
    "    for i, word in enumerate(list_vocab):\n",
    "        if word in list_tokens_string:\n",
    "            vector_text[i]=list_tokens_string.count(word)\n",
    "    return vector_text"
   ]
  },
  {
   "cell_type": "code",
   "execution_count": 100,
   "metadata": {},
   "outputs": [],
   "source": [
    "def train_svm_classifier(trainSet, vocabulary):\n",
    "    x = []\n",
    "    y = []\n",
    "    for i in trainSet.index:\n",
    "        vector_instance = get_vector_text(vocabulary, trainSet.loc[i,0])\n",
    "        x.append(vector_instance)\n",
    "        y.append(trainSet.loc[i,1])\n",
    "    svm_clf = sklearn.svm.SVC(kernel=\"linear\", gamma=\"auto\")\n",
    "    svm_clf.fit(np.asarray(x), np.asarray(y))\n",
    "    return svm_clf"
   ]
  },
  {
   "cell_type": "code",
   "execution_count": 101,
   "metadata": {},
   "outputs": [
    {
     "name": "stdout",
     "output_type": "stream",
     "text": [
      "1. 's - 7084\n",
      "2. said - 5794\n",
      "3. wa - 4838\n",
      "4. ha - 3998\n",
      "5. mr - 2428\n",
      "6. year - 2250\n",
      "7. would - 2035\n",
      "8. also - 1741\n",
      "9. people - 1621\n",
      "10. new - 1539\n",
      "11. one - 1428\n",
      "12. us - 1280\n",
      "13. could - 1228\n",
      "14. last - 1121\n",
      "15. time - 1113\n"
     ]
    }
   ],
   "source": [
    "vocabulary=get_vocabulary(x_train, 1000)"
   ]
  },
  {
   "cell_type": "code",
   "execution_count": 102,
   "metadata": {},
   "outputs": [],
   "source": [
    "svm_clf=train_svm_classifier(x_train, vocabulary)"
   ]
  },
  {
   "cell_type": "code",
   "execution_count": 103,
   "metadata": {},
   "outputs": [],
   "source": [
    "X_test=[]\n",
    "Y_test=[]\n",
    "for i in x_test.index:\n",
    "    vector_instance=get_vector_text(vocabulary,x_test.loc[i,0])\n",
    "    X_test.append(vector_instance)\n",
    "    Y_test.append(x_test.loc[i,1])\n",
    "X_test=np.asarray(X_test)\n",
    "Y_test_gold=np.asarray(Y_test)"
   ]
  },
  {
   "cell_type": "code",
   "execution_count": 104,
   "metadata": {},
   "outputs": [],
   "source": [
    "Y_text_predictions=svm_clf.predict(X_test)"
   ]
  },
  {
   "cell_type": "code",
   "execution_count": 105,
   "metadata": {},
   "outputs": [
    {
     "name": "stdout",
     "output_type": "stream",
     "text": [
      "Accuracy: 0.957\n",
      "classification_report                precision    recall  f1-score   support\n",
      "\n",
      "     business       0.95      0.95      0.95       110\n",
      "entertainment       0.98      0.89      0.93        72\n",
      "     politics       0.94      0.96      0.95        79\n",
      "        sport       0.97      0.99      0.98       105\n",
      "         tech       0.95      0.97      0.96        79\n",
      "\n",
      "     accuracy                           0.96       445\n",
      "    macro avg       0.96      0.95      0.96       445\n",
      " weighted avg       0.96      0.96      0.96       445\n",
      "\n"
     ]
    }
   ],
   "source": [
    "precision=precision_score(Y_test_gold, Y_text_predictions, average='macro')\n",
    "recall=recall_score(Y_test_gold, Y_text_predictions, average='macro')\n",
    "f1=f1_score(Y_test_gold, Y_text_predictions, average='macro')\n",
    "accuracy =accuracy_score(Y_test_gold, Y_text_predictions)\n",
    "\n",
    "print (\"Accuracy: \"+str(round(accuracy,3)))\n",
    "print('classification_report',classification_report(Y_test_gold,Y_text_predictions))"
   ]
  },
  {
   "cell_type": "markdown",
   "metadata": {},
   "source": [
    "Tfidf as Feature"
   ]
  },
  {
   "cell_type": "code",
   "execution_count": 106,
   "metadata": {},
   "outputs": [],
   "source": [
    "tf = TfidfVectorizer()#Extract features from articles\n",
    "tf.fit(dataSet[0])#learn the content\n",
    "data_tf = tf.transform(dataSet[0])#Feature extraction for learning content"
   ]
  },
  {
   "cell_type": "code",
   "execution_count": 107,
   "metadata": {},
   "outputs": [],
   "source": [
    "x_train, x_test, y_train, y_test = train_test_split(data_tf,dataSet[1],test_size=0.2)"
   ]
  },
  {
   "cell_type": "markdown",
   "metadata": {},
   "source": [
    "Train the model The model is trained using two methods: Multinomial distribution Naive Bayes Bernoulli distribution Naive Bayes"
   ]
  },
  {
   "cell_type": "code",
   "execution_count": 108,
   "metadata": {},
   "outputs": [],
   "source": [
    "def train_model(classifier, feature_vector_train, label, feature_vector_test, is_neural_net=False):\n",
    "    classifier.fit(feature_vector_train, label)\n",
    "\n",
    "    predictions = classifier.predict(feature_vector_test)\n",
    "\n",
    "    if is_neural_net:\n",
    "        predictions = predictions.argmax(axis=-1)\n",
    "\n",
    "    return metrics.accuracy_score(y_test,predictions), metrics.classification_report(y_test,predictions)"
   ]
  },
  {
   "cell_type": "code",
   "execution_count": 109,
   "metadata": {},
   "outputs": [
    {
     "name": "stdout",
     "output_type": "stream",
     "text": [
      "Naive Bayes:  0.957303370787\n",
      "Naive Bayes:                 precision    recall  f1-score   support\n",
      "\n",
      "     business       0.94      0.98      0.96        95\n",
      "entertainment       1.00      0.85      0.92        80\n",
      "     politics       0.92      0.97      0.94        79\n",
      "        sport       0.97      0.99      0.98       119\n",
      "         tech       0.97      0.97      0.97        72\n",
      "\n",
      "     accuracy                           0.96       445\n",
      "    macro avg       0.96      0.95      0.95       445\n",
      " weighted avg       0.96      0.96      0.96       445\n",
      "\n"
     ]
    }
   ],
   "source": [
    "accuracy,classification_report = train_model(naive_bayes.MultinomialNB(), x_train, y_train, x_test)\n",
    "print(\"Naive Bayes: \", accuracy)\n",
    "print(\"Naive Bayes: \", classification_report)"
   ]
  },
  {
   "cell_type": "code",
   "execution_count": 110,
   "metadata": {},
   "outputs": [
    {
     "name": "stdout",
     "output_type": "stream",
     "text": [
      "Naive Bayes:  0.948314606742\n",
      "Naive Bayes:                 precision    recall  f1-score   support\n",
      "\n",
      "     business       0.84      0.99      0.91        95\n",
      "entertainment       0.99      0.95      0.97        80\n",
      "     politics       0.96      0.86      0.91        79\n",
      "        sport       1.00      0.98      0.99       119\n",
      "         tech       0.99      0.93      0.96        72\n",
      "\n",
      "     accuracy                           0.95       445\n",
      "    macro avg       0.95      0.94      0.95       445\n",
      " weighted avg       0.95      0.95      0.95       445\n",
      "\n"
     ]
    }
   ],
   "source": [
    "accuracy,classification_report = train_model(naive_bayes.BernoulliNB(), x_train, y_train, x_test)\n",
    "print(\"Naive Bayes: \", accuracy)\n",
    "print(\"Naive Bayes: \", classification_report)"
   ]
  },
  {
   "cell_type": "markdown",
   "metadata": {},
   "source": [
    "Cross-validation: Do 10-fold cross-validation"
   ]
  },
  {
   "cell_type": "code",
   "execution_count": 111,
   "metadata": {},
   "outputs": [
    {
     "data": {
      "image/png": "[encoded data removed]",
      "text/plain": [
       "<matplotlib.figure.Figure at 0x271bb8f8cc0>"
      ]
     },
     "metadata": {},
     "output_type": "display_data"
    }
   ],
   "source": [
    "mnbs = []\n",
    "bnbs = []\n",
    "for i in range(10):\n",
    "    mnb = MultinomialNB()\n",
    "    mnb_s = cross_val_score(mnb,data_tf,dataSet[1],cv=10).mean()\n",
    "    mnbs.append(mnb_s)\n",
    "    bnb = BernoulliNB()\n",
    "    bnb_s = cross_val_score(bnb,data_tf,dataSet[1],cv=10).mean()\n",
    "    bnbs.append(bnb_s)\n",
    "plt.plot(range(1,11),mnbs,label= 'MultinomialNB')\n",
    "plt.plot(range(1,11),bnbs,label= 'BernoulliNB')\n",
    "plt.legend()\n",
    "plt.show()"
   ]
  },
  {
   "cell_type": "code",
   "execution_count": null,
   "metadata": {},
   "outputs": [],
   "source": []
  },
  {
   "cell_type": "code",
   "execution_count": null,
   "metadata": {},
   "outputs": [],
   "source": []
  },
  {
   "cell_type": "code",
   "execution_count": null,
   "metadata": {},
   "outputs": [],
   "source": []
  },
  {
   "cell_type": "code",
   "execution_count": null,
   "metadata": {},
   "outputs": [],
   "source": []
  }
 ],
 "metadata": {
  "kernelspec": {
   "display_name": "Python 3",
   "language": "python",
   "name": "python3"
  },
  "language_info": {
   "codemirror_mode": {
    "name": "ipython",
    "version": 3
   },
   "file_extension": ".py",
   "mimetype": "text/x-python",
   "name": "python",
   "nbconvert_exporter": "python",
   "pygments_lexer": "ipython3",
   "version": "3.6.3"
  }
 },
 "nbformat": 4,
 "nbformat_minor": 2
}
